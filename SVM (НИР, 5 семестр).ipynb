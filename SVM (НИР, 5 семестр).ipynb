{
 "cells": [
  {
   "cell_type": "code",
   "execution_count": 1,
   "metadata": {},
   "outputs": [],
   "source": [
    "import numpy as np\n",
    "import numpy.linalg as la\n",
    "import scipy.spatial.distance as dist\n",
    "import random"
   ]
  },
  {
   "cell_type": "code",
   "execution_count": 2,
   "metadata": {},
   "outputs": [],
   "source": [
    "class SVM:\n",
    "    \n",
    "    '''\n",
    "    Класс, представляющий реализацию классификации данных методом опорных векторов.\n",
    "    SVM - Support Vector Machine\n",
    "    '''\n",
    "    \n",
    "    def __init__(self, kernel='linear', C=1.0, degree=3, gamma=0.1, tol=10**-3, max_iters=10000):\n",
    "        \n",
    "        '''\n",
    "        Конструктор класса.\n",
    "        Параметры:\n",
    "        - kernel - ядро ('linear', 'poly' и 'rbf')\n",
    "        - С - параметр регуляризации\n",
    "        - degree - степень полиноминальной функции ядра \n",
    "        - gamma - используется в ядре 'rbf'\n",
    "        - tol - для реализации алгоритма SMO\n",
    "        - max_iters - максимальное количество итераций \n",
    "        '''\n",
    "        \n",
    "        # ядра\n",
    "        Kernels = {\n",
    "            'linear': lambda x, y: np.dot(x, y.T),\n",
    "            'poly': lambda x, y: np.dot(x, y.T)**degree,\n",
    "            'rbf': lambda x, y: np.exp(-self.gamma*dist.cdist(np.atleast_2d(x), np.atleast_2d(y))**2).flatten()\n",
    "        }\n",
    "        \n",
    "        if kernel not in Kernels:\n",
    "            raise ValueError(f\"Недопустимое значение ядра {kernel}! Возможны значения: linear, poly, rbf.\")\n",
    "        \n",
    "        self.kernel = Kernels[kernel]\n",
    "        self.kernel_name = kernel # понадобиться позже\n",
    "        self.C = C\n",
    "        self.degree = degree\n",
    "        self.gamma = gamma\n",
    "        self.tol = tol\n",
    "        self.max_iters = max_iters\n",
    "        \n",
    "        # для SMO\n",
    "        self.b = 0\n",
    "        self.K = 0\n",
    "        self.alpha = 0\n",
    "        \n",
    "    # -----------------------------------------------------------------------------------------------------------------------\n",
    "        \n",
    "    def _input(self, x, y):\n",
    "        \n",
    "        '''\n",
    "        Подпрограмма для обработки входных данных.\n",
    "        Обрабатывает корректность входных данных, а на выходе преобразует их в numpy-массивы.\n",
    "        Параметры:\n",
    "        - x - набор данных объекта\n",
    "        - y - массив меток\n",
    "        '''\n",
    "        \n",
    "        # -> np.array\n",
    "        if not isinstance(x, np.ndarray):\n",
    "            x = np.array(x)\n",
    "        \n",
    "        # если пустой, то выкинем исключение\n",
    "        if not len(x):\n",
    "            raise ValueError(\"Набор данных объекта не должен быть пустым!\")\n",
    "        \n",
    "        # -> np.array\n",
    "        if not isinstance(y, np.ndarray):\n",
    "            y = np.array(y)\n",
    "        \n",
    "        # если пустой, то выкинем исключение\n",
    "        if not len(y):\n",
    "            raise ValueError(\"Массив меток не должен быть пустым!\")\n",
    "        \n",
    "        # кол-во образцов \n",
    "        self.n_samples = x.shape[0]\n",
    "        \n",
    "        # кол-во характеристик\n",
    "        self.n_features = x.shape[1]\n",
    "        \n",
    "        # кол-во классов\n",
    "        self.n_classes = len(set(y))\n",
    "        \n",
    "        self.x = x\n",
    "        self.y = y\n",
    "        \n",
    "    # -----------------------------------------------------------------------------------------------------------------------\n",
    "    \n",
    "    def _predict_row(self, x):\n",
    "        \n",
    "        '''\n",
    "        Вспомогательная подпрограмма для алгоритма SMO.\n",
    "        Вычисляем f(x).\n",
    "        '''\n",
    "        kernel_prod = self.kernel(self.x[self.sv_idx], x)\n",
    "        return np.dot((self.alpha[self.sv_idx]*self.y[self.sv_idx]).T, kernel_prod.T) + self.b\n",
    "    \n",
    "    # -----------------------------------------------------------------------------------------------------------------------\n",
    "    \n",
    "    def predict(self, x):\n",
    "        \n",
    "        '''\n",
    "        Подпрограмма, которая предсказывает, к какому классу относятся элементы массива x.\n",
    "        '''\n",
    "        res = []\n",
    "        for i in range(x.shape[0]):\n",
    "            res.append(np.sign(self._predict_row(x[i, :])))\n",
    "        \n",
    "        return np.array(res)\n",
    "    \n",
    "    # -----------------------------------------------------------------------------------------------------------------------\n",
    "    \n",
    "    def _err(self, index):\n",
    "        \n",
    "        '''\n",
    "        Ошибка для экземпляра с индексом 'index'\n",
    "        '''\n",
    "        return self._predict_row(self.x[index]) - self.y[index]\n",
    "        \n",
    "    # -----------------------------------------------------------------------------------------------------------------------\n",
    "    \n",
    "    def _random_index(self, index):\n",
    "        \n",
    "        '''\n",
    "        Подпрограмма, которая возвращает случайных индекс из диапазона\n",
    "        [0, self.n_samples - 1], не равный индексу 'index'\n",
    "        '''\n",
    "        \n",
    "        index_res = random.randint(0, self.n_samples - 1)\n",
    "        while index_res == index:\n",
    "            index_res = random.randint(0, self.n_samples - 1)\n",
    "            \n",
    "        return index_res\n",
    "    \n",
    "    # -----------------------------------------------------------------------------------------------------------------------\n",
    "    \n",
    "    def _bounds(self, i, j):\n",
    "        \n",
    "        '''\n",
    "        Подпрограмма, которая находит границы L и H для алгоритма SMO.\n",
    "        Параметры:\n",
    "        - i, j - индексы\n",
    "        Возвращаемое значение:\n",
    "        - L, H - границы\n",
    "        '''\n",
    "        \n",
    "        if self.y[i] != self.y[j]:\n",
    "            \n",
    "            L = max(0, self.alpha[j] - self.alpha[i])\n",
    "            H = min(self.C, self.C + self.alpha[j] - self.alpha[i])\n",
    "            \n",
    "        else:\n",
    "            \n",
    "            L = max(0, self.alpha[i] - self.alpha[j] - self.C)\n",
    "            H = min(self.C, self.alpha[i] - self.alpha[j])\n",
    "            \n",
    "        return L, H\n",
    "    \n",
    "    # -----------------------------------------------------------------------------------------------------------------------\n",
    "    \n",
    "    def _clip(self, L, H, alpha):\n",
    "        \n",
    "        '''\n",
    "        Подпрограмма, которая устанавливаем значение параметра альфа\n",
    "        в соответствии с системой.\n",
    "        '''\n",
    "        \n",
    "        if alpha > H:\n",
    "            alpha = H\n",
    "        \n",
    "        if alpha < L:\n",
    "            alpha = L\n",
    "            \n",
    "        return alpha\n",
    "    \n",
    "    # -----------------------------------------------------------------------------------------------------------------------\n",
    "    \n",
    "    def _compute_b(self, b1, b2, i, j):\n",
    "        \n",
    "        if 0 < self.alpha[i] < self.C:\n",
    "            return b1\n",
    "        if 0 < self.alpha[j] < self.C:\n",
    "            return b2\n",
    "        return (b1 + b2)/2\n",
    "    \n",
    "    # -----------------------------------------------------------------------------------------------------------------------\n",
    "\n",
    "    def _train(self):\n",
    "        \n",
    "        '''\n",
    "        Подпрограмма обучения на тренировочном наборе данных.\n",
    "        Строится разделяющая гиперплоскость.\n",
    "        Реализуется алгоритм SMO для решения задачи квадратичного программирования.\n",
    "        '''\n",
    "        \n",
    "        iter_counter = 0\n",
    "        while iter_counter < self.max_iters:\n",
    "            \n",
    "            num_changed_alphas = 0\n",
    "                \n",
    "            for i in range(self.n_samples):\n",
    "                    \n",
    "                # ошибка\n",
    "                err_i = self._err(i)\n",
    "                \n",
    "                # условия ККТ\n",
    "                if ((self.y[i]*err_i < -self.tol) and (self.alpha[i] < self.C)) or \\\n",
    "                   ((self.y[i]*err_i > self.tol) and (self.alpha[i] > 0)):\n",
    "                \n",
    "                    # находим случайный индекс\n",
    "                    j = self._random_index(i)\n",
    "                    \n",
    "                    # ошибка\n",
    "                    err_j = self._err(j)\n",
    "                    \n",
    "                    # сохраняем старые значения параметров\n",
    "                    alpha_i_old = self.alpha[i]\n",
    "                    alpha_j_old = self.alpha[j]\n",
    "                    \n",
    "                    # находим границы\n",
    "                    L, H = self._bounds(i, j)\n",
    "                    \n",
    "                    # если равны, то след. итерация\n",
    "                    if L == H:\n",
    "                        continue \n",
    "                    \n",
    "                    # считаем параметр в соответствии с формулой\n",
    "                    eta = 2*self.K[i, j] - self.K[i, i] - self.K[j, j]\n",
    "                    \n",
    "                    # если 0, то след. итерация\n",
    "                    if eta >= 0:\n",
    "                        continue \n",
    "                        \n",
    "                    # обновляем значения параметра альфа\n",
    "                    self.alpha[j] -= self.y[j]*(err_i - err_j)/eta\n",
    "                    self.alpha[j] = self._clip(L, H, self.alpha[j])\n",
    "                    \n",
    "                    if np.abs(self.alpha[j] - alpha_j_old) < self.tol:\n",
    "                        continue\n",
    "                    \n",
    "                    self.alpha[i] += self.y[i]*self.y[j]*(alpha_j_old - self.alpha[j])\n",
    "                    \n",
    "                    # находим значения b\n",
    "                    b1 = self.b - err_i - self.y[i]*(self.alpha[i] - alpha_i_old)*self.K[i, i] \\\n",
    "                                    - self.y[j]*(self.alpha[j] - alpha_j_old)*self.K[i, j]\n",
    "                    \n",
    "                    b2 = self.b - err_j - self.y[j]*(self.alpha[j] - alpha_j_old)*self.K[j, j] \\\n",
    "                                    - self.y[i]*(self.alpha[i] - alpha_i_old)*self.K[i, j]\n",
    "                    \n",
    "                    self.b = self._compute_b(b1, b2, i, j)\n",
    "                    \n",
    "                    num_changed_alphas += 1\n",
    "                \n",
    "            if num_changed_alphas == 0:\n",
    "                break\n",
    "                \n",
    "            iter_counter += 1\n",
    "        \n",
    "        # сохраним индексы опорных векторов\n",
    "        self.sv_idx = np.where(self.alpha > 0)[0]    \n",
    "    \n",
    "    # -----------------------------------------------------------------------------------------------------------------------\n",
    "    \n",
    "    def fit(self, x, y):\n",
    "        \n",
    "        '''\n",
    "        Подпрограмма классификации.\n",
    "        Параметры:\n",
    "        - x - набор данных объекта\n",
    "        - y - массив меток\n",
    "        '''\n",
    "        \n",
    "        # обработка входных данных\n",
    "        self._input(x, y)\n",
    "        \n",
    "        # матрица скалярных произведений\n",
    "        self.K = np.zeros((self.n_samples, self.n_samples))\n",
    "        for index in range(self.n_samples):\n",
    "            self.K[:, index] = self.kernel(self.x, self.x[index, :])\n",
    "            \n",
    "        # для SMO\n",
    "        self.alpha = np.zeros(self.n_samples)\n",
    "        \n",
    "        # опорные вектора\n",
    "        # suppert vectors indexes\n",
    "        self.sv_idx = np.arange(0, self.n_samples)\n",
    "        \n",
    "        # возвращаем результат обучения\n",
    "        return self._train()\n",
    "    \n",
    "    # -----------------------------------------------------------------------------------------------------------------------"
   ]
  },
  {
   "cell_type": "markdown",
   "metadata": {},
   "source": [
    "# <center> ТЕСТИРОВАНИЕ БИНАРНОГО SVM"
   ]
  },
  {
   "cell_type": "markdown",
   "metadata": {},
   "source": [
    "Для того, что судить о том, насколько хорошо показывает себя написанная версия SVM - будем сравнивать его результаты с SVM из библиотеки языка Python sklearn."
   ]
  },
  {
   "cell_type": "code",
   "execution_count": 3,
   "metadata": {},
   "outputs": [],
   "source": [
    "from sklearn.svm import SVC"
   ]
  },
  {
   "cell_type": "markdown",
   "metadata": {},
   "source": [
    "## <center> Тест 1. <br> Ирисы Фишера."
   ]
  },
  {
   "cell_type": "code",
   "execution_count": 4,
   "metadata": {},
   "outputs": [
    {
     "name": "stdout",
     "output_type": "stream",
     "text": [
      "[0 0 0 0 0 0 0 0 0 0 0 0 0 0 0 0 0 0 0 0 0 0 0 0 0 0 0 0 0 0 0 0 0 0 0 0 0\n",
      " 0 0 0 0 0 0 0 0 0 0 0 0 0 1 1 1 1 1 1 1 1 1 1 1 1 1 1 1 1 1 1 1 1 1 1 1 1\n",
      " 1 1 1 1 1 1 1 1 1 1 1 1 1 1 1 1 1 1 1 1 1 1 1 1 1 1 2 2 2 2 2 2 2 2 2 2 2\n",
      " 2 2 2 2 2 2 2 2 2 2 2 2 2 2 2 2 2 2 2 2 2 2 2 2 2 2 2 2 2 2 2 2 2 2 2 2 2\n",
      " 2 2]\n"
     ]
    }
   ],
   "source": [
    "import sklearn.datasets as datasets\n",
    "from sklearn.model_selection import train_test_split\n",
    "from sklearn.metrics import accuracy_score\n",
    "\n",
    "data = datasets.load_iris()\n",
    "\n",
    "X = data.data\n",
    "Y = data.target\n",
    "print(Y)"
   ]
  },
  {
   "cell_type": "code",
   "execution_count": 5,
   "metadata": {},
   "outputs": [
    {
     "data": {
      "image/png": "[encoded data removed]",
      "text/plain": [
       "<Figure size 432x288 with 1 Axes>"
      ]
     },
     "metadata": {
      "needs_background": "light"
     },
     "output_type": "display_data"
    }
   ],
   "source": [
    "import matplotlib.pyplot as plt\n",
    "\n",
    "colors = {0:'k', 1:'g', 2:'b'}\n",
    "fig, ax = plt.subplots()\n",
    "for i in range(len(X)):\n",
    "    ax.scatter(X[i][0], X[i][1],color=colors[Y[i]])\n",
    "# set a title and labels\n",
    "ax.set_title('Iris')\n",
    "ax.set_xlabel('sepal length (cm)')\n",
    "ax.set_ylabel('sepal width (cm)')\n",
    "\n",
    "plt.show()"
   ]
  },
  {
   "cell_type": "markdown",
   "metadata": {},
   "source": [
    "Приведем при помощи преобразований данный датасет к бинарному (чтобы метки классов были -1 и 1 соответственно).\n",
    "Таким образом, класс 0 (Setosa) превратится в -1, классы 1 (Versicolor) и 2 (Virginica) - в +1. "
   ]
  },
  {
   "cell_type": "code",
   "execution_count": 6,
   "metadata": {},
   "outputs": [
    {
     "name": "stdout",
     "output_type": "stream",
     "text": [
      "[-1 -1 -1 -1 -1 -1 -1 -1 -1 -1 -1 -1 -1 -1 -1 -1 -1 -1 -1 -1 -1 -1 -1 -1\n",
      " -1 -1 -1 -1 -1 -1 -1 -1 -1 -1 -1 -1 -1 -1 -1 -1 -1 -1 -1 -1 -1 -1 -1 -1\n",
      " -1 -1  1  1  1  1  1  1  1  1  1  1  1  1  1  1  1  1  1  1  1  1  1  1\n",
      "  1  1  1  1  1  1  1  1  1  1  1  1  1  1  1  1  1  1  1  1  1  1  1  1\n",
      "  1  1  1  1  1  1  1  1  1  1  1  1  1  1  1  1  1  1  1  1  1  1  1  1\n",
      "  1  1  1  1  1  1  1  1  1  1  1  1  1  1  1  1  1  1  1  1  1  1  1  1\n",
      "  1  1  1  1  1  1]\n"
     ]
    }
   ],
   "source": [
    "# [0, 1, 2] -> [False, True, True] -> [0, 1, 1] -> [0, 2, 2] -> [-1, 1, 1]\n",
    "Y = (Y > 0).astype(int)*2 - 1 \n",
    "print(Y)"
   ]
  },
  {
   "cell_type": "code",
   "execution_count": 7,
   "metadata": {},
   "outputs": [],
   "source": [
    "X_train, X_test, Y_train, Y_test = train_test_split(X, Y, test_size=0.4, random_state=2020)"
   ]
  },
  {
   "cell_type": "code",
   "execution_count": 8,
   "metadata": {},
   "outputs": [
    {
     "data": {
      "image/png": "[encoded data removed]",
      "text/plain": [
       "<Figure size 432x288 with 1 Axes>"
      ]
     },
     "metadata": {
      "needs_background": "light"
     },
     "output_type": "display_data"
    }
   ],
   "source": [
    "colors = {+1:'k', -1:'g'}\n",
    "fig, ax = plt.subplots()\n",
    "for i in range(len(X)):\n",
    "    ax.scatter(X[i][0], X[i][1],color=colors[Y[i]])\n",
    "# set a title and labels\n",
    "ax.set_title('Iris')\n",
    "ax.set_xlabel('sepal length (cm)')\n",
    "ax.set_ylabel('sepal width (cm)')\n",
    "\n",
    "plt.show()"
   ]
  },
  {
   "cell_type": "markdown",
   "metadata": {},
   "source": [
    "## <center> Наша SVM."
   ]
  },
  {
   "cell_type": "markdown",
   "metadata": {},
   "source": [
    "Параметры по умолчанию. "
   ]
  },
  {
   "cell_type": "code",
   "execution_count": 9,
   "metadata": {},
   "outputs": [
    {
     "name": "stdout",
     "output_type": "stream",
     "text": [
      "Wall time: 32.9 ms\n"
     ]
    }
   ],
   "source": [
    "%%time\n",
    "cls = SVM() \n",
    "cls.fit(X_train, Y_train)"
   ]
  },
  {
   "cell_type": "code",
   "execution_count": 10,
   "metadata": {},
   "outputs": [
    {
     "name": "stdout",
     "output_type": "stream",
     "text": [
      "Результаты классификации нашей SVM: [ 1. -1.  1.  1.  1.  1.  1.  1. -1. -1.  1.  1. -1.  1.  1. -1.  1.  1.\n",
      "  1. -1. -1.  1.  1. -1.  1.  1.  1.  1. -1. -1.  1. -1. -1. -1.  1. -1.\n",
      " -1.  1. -1.  1. -1.  1.  1. -1.  1.  1.  1.  1.  1.  1. -1.  1.  1. -1.\n",
      "  1.  1.  1.  1. -1.  1.]\n",
      "Реальный метки классов: [ 1 -1  1  1  1  1  1  1 -1 -1  1  1 -1  1  1 -1  1  1  1 -1 -1  1  1 -1\n",
      "  1  1  1  1 -1 -1  1 -1 -1 -1  1 -1 -1  1 -1  1 -1  1  1 -1  1  1  1  1\n",
      "  1  1 -1  1  1 -1  1  1  1  1 -1  1]\n"
     ]
    }
   ],
   "source": [
    "print(f'Результаты классификации нашей SVM: {cls.predict(X_test)}')\n",
    "print(f'Реальный метки классов: {Y_test}')"
   ]
  },
  {
   "cell_type": "code",
   "execution_count": 11,
   "metadata": {},
   "outputs": [
    {
     "name": "stdout",
     "output_type": "stream",
     "text": [
      "Точность классификации равняется: 100.000%\n"
     ]
    }
   ],
   "source": [
    "print(f'Точность классификации равняется: {accuracy_score(Y_test, cls.predict(X_test))*100:.3f}%')"
   ]
  },
  {
   "cell_type": "markdown",
   "metadata": {},
   "source": [
    "Изменим параметры. Ядро пусть будет 'poly', C = 0.1, max_iters = 1000."
   ]
  },
  {
   "cell_type": "code",
   "execution_count": 12,
   "metadata": {},
   "outputs": [
    {
     "name": "stdout",
     "output_type": "stream",
     "text": [
      "Wall time: 34.9 ms\n"
     ]
    }
   ],
   "source": [
    "%%time\n",
    "cls = SVM(kernel='poly', C=10.0, tol = 10**-100, max_iters=1000) \n",
    "cls.fit(X_train, Y_train)"
   ]
  },
  {
   "cell_type": "code",
   "execution_count": 13,
   "metadata": {},
   "outputs": [
    {
     "name": "stdout",
     "output_type": "stream",
     "text": [
      "Точность классификации равняется: 100.000%\n"
     ]
    }
   ],
   "source": [
    "print(f'Точность классификации равняется: {accuracy_score(Y_test, cls.predict(X_test))*100:.3f}%')"
   ]
  },
  {
   "cell_type": "markdown",
   "metadata": {},
   "source": [
    "Изменим параметры. Ядро пусть будет 'rbf'."
   ]
  },
  {
   "cell_type": "code",
   "execution_count": 14,
   "metadata": {},
   "outputs": [
    {
     "name": "stdout",
     "output_type": "stream",
     "text": [
      "Wall time: 263 ms\n"
     ]
    }
   ],
   "source": [
    "%%time\n",
    "cls = SVM(kernel='rbf')\n",
    "cls.fit(X_train, Y_train)"
   ]
  },
  {
   "cell_type": "code",
   "execution_count": 15,
   "metadata": {},
   "outputs": [
    {
     "name": "stdout",
     "output_type": "stream",
     "text": [
      "Точность классификации равняется: 100.000%\n"
     ]
    }
   ],
   "source": [
    "print(f'Точность классификации равняется: {accuracy_score(Y_test, cls.predict(X_test))*100:.3f}%')"
   ]
  },
  {
   "cell_type": "markdown",
   "metadata": {},
   "source": [
    "## <center> Sklearn SVM."
   ]
  },
  {
   "cell_type": "markdown",
   "metadata": {},
   "source": [
    "Параметры по умолчанию."
   ]
  },
  {
   "cell_type": "code",
   "execution_count": 16,
   "metadata": {},
   "outputs": [
    {
     "name": "stdout",
     "output_type": "stream",
     "text": [
      "Точность классификации равняется: 100.000%\n",
      "Wall time: 4.96 ms\n"
     ]
    }
   ],
   "source": [
    "%%time\n",
    "cls = SVC(kernel='linear', C=1.0, degree=3, gamma=0.1, tol=10**-3, max_iter=10000) \n",
    "cls.fit(X_train, Y_train)\n",
    "print(f'Точность классификации равняется: {accuracy_score(Y_test, cls.predict(X_test))*100:.3f}%')"
   ]
  },
  {
   "cell_type": "markdown",
   "metadata": {},
   "source": [
    "Изменим параметры. Ядро пусть будет 'poly', C = 0.1, max_iters = 1000."
   ]
  },
  {
   "cell_type": "code",
   "execution_count": 17,
   "metadata": {},
   "outputs": [
    {
     "name": "stdout",
     "output_type": "stream",
     "text": [
      "Точность классификации равняется: 100.000%\n",
      "Wall time: 998 µs\n"
     ]
    }
   ],
   "source": [
    "%%time\n",
    "cls = SVC(kernel='poly', C=0.1, degree=3, gamma=0.1, tol=10**-3, max_iter=1000) \n",
    "cls.fit(X_train, Y_train)\n",
    "print(f'Точность классификации равняется: {accuracy_score(Y_test, cls.predict(X_test))*100:.3f}%')"
   ]
  },
  {
   "cell_type": "markdown",
   "metadata": {},
   "source": [
    " Изменим параметры. Ядро пусть будет 'rbf'."
   ]
  },
  {
   "cell_type": "code",
   "execution_count": 18,
   "metadata": {},
   "outputs": [
    {
     "name": "stdout",
     "output_type": "stream",
     "text": [
      "Точность классификации равняется: 100.000%\n",
      "Wall time: 1.98 ms\n"
     ]
    }
   ],
   "source": [
    "%%time\n",
    "cls = SVC(kernel='rbf', C=1.0, degree=3, gamma=0.1, tol=10**-3, max_iter=1000) \n",
    "cls.fit(X_train, Y_train)\n",
    "print(f'Точность классификации равняется: {accuracy_score(Y_test, cls.predict(X_test))*100:.3f}%')"
   ]
  },
  {
   "cell_type": "markdown",
   "metadata": {},
   "source": [
    "# <center> Тест 2. <br> Breast Cancer (рак молочной железы)."
   ]
  },
  {
   "cell_type": "code",
   "execution_count": 19,
   "metadata": {},
   "outputs": [
    {
     "name": "stdout",
     "output_type": "stream",
     "text": [
      "[0 0 0 0 0 0 0 0 0 0 0 0 0 0 0 0 0 0 0 1 1 1 0 0 0 0 0 0 0 0 0 0 0 0 0 0 0\n",
      " 1 0 0 0 0 0 0 0 0 1 0 1 1 1 1 1 0 0 1 0 0 1 1 1 1 0 1 0 0 1 1 1 1 0 1 0 0\n",
      " 1 0 1 0 0 1 1 1 0 0 1 0 0 0 1 1 1 0 1 1 0 0 1 1 1 0 0 1 1 1 1 0 1 1 0 1 1\n",
      " 1 1 1 1 1 1 0 0 0 1 0 0 1 1 1 0 0 1 0 1 0 0 1 0 0 1 1 0 1 1 0 1 1 1 1 0 1\n",
      " 1 1 1 1 1 1 1 1 0 1 1 1 1 0 0 1 0 1 1 0 0 1 1 0 0 1 1 1 1 0 1 1 0 0 0 1 0\n",
      " 1 0 1 1 1 0 1 1 0 0 1 0 0 0 0 1 0 0 0 1 0 1 0 1 1 0 1 0 0 0 0 1 1 0 0 1 1\n",
      " 1 0 1 1 1 1 1 0 0 1 1 0 1 1 0 0 1 0 1 1 1 1 0 1 1 1 1 1 0 1 0 0 0 0 0 0 0\n",
      " 0 0 0 0 0 0 0 1 1 1 1 1 1 0 1 0 1 1 0 1 1 0 1 0 0 1 1 1 1 1 1 1 1 1 1 1 1\n",
      " 1 0 1 1 0 1 0 1 1 1 1 1 1 1 1 1 1 1 1 1 1 0 1 1 1 0 1 0 1 1 1 1 0 0 0 1 1\n",
      " 1 1 0 1 0 1 0 1 1 1 0 1 1 1 1 1 1 1 0 0 0 1 1 1 1 1 1 1 1 1 1 1 0 0 1 0 0\n",
      " 0 1 0 0 1 1 1 1 1 0 1 1 1 1 1 0 1 1 1 0 1 1 0 0 1 1 1 1 1 1 0 1 1 1 1 1 1\n",
      " 1 0 1 1 1 1 1 0 1 1 0 1 1 1 1 1 1 1 1 1 1 1 1 0 1 0 0 1 0 1 1 1 1 1 0 1 1\n",
      " 0 1 0 1 1 0 1 0 1 1 1 1 1 1 1 1 0 0 1 1 1 1 1 1 0 1 1 1 1 1 1 1 1 1 1 0 1\n",
      " 1 1 1 1 1 1 0 1 0 1 1 0 1 1 1 1 1 0 0 1 0 1 0 1 1 1 1 1 0 1 1 0 1 0 1 0 0\n",
      " 1 1 1 0 1 1 1 1 1 1 1 1 1 1 1 0 1 0 0 1 1 1 1 1 1 1 1 1 1 1 1 1 1 1 1 1 1\n",
      " 1 1 1 1 1 1 1 0 0 0 0 0 0 1]\n"
     ]
    }
   ],
   "source": [
    "data = datasets.load_breast_cancer()\n",
    "\n",
    "X = data.data\n",
    "Y = data.target\n",
    "print(Y)"
   ]
  },
  {
   "cell_type": "code",
   "execution_count": 20,
   "metadata": {},
   "outputs": [
    {
     "name": "stdout",
     "output_type": "stream",
     "text": [
      "[-1 -1 -1 -1 -1 -1 -1 -1 -1 -1 -1 -1 -1 -1 -1 -1 -1 -1 -1  1  1  1 -1 -1\n",
      " -1 -1 -1 -1 -1 -1 -1 -1 -1 -1 -1 -1 -1  1 -1 -1 -1 -1 -1 -1 -1 -1  1 -1\n",
      "  1  1  1  1  1 -1 -1  1 -1 -1  1  1  1  1 -1  1 -1 -1  1  1  1  1 -1  1\n",
      " -1 -1  1 -1  1 -1 -1  1  1  1 -1 -1  1 -1 -1 -1  1  1  1 -1  1  1 -1 -1\n",
      "  1  1  1 -1 -1  1  1  1  1 -1  1  1 -1  1  1  1  1  1  1  1  1 -1 -1 -1\n",
      "  1 -1 -1  1  1  1 -1 -1  1 -1  1 -1 -1  1 -1 -1  1  1 -1  1  1 -1  1  1\n",
      "  1  1 -1  1  1  1  1  1  1  1  1  1 -1  1  1  1  1 -1 -1  1 -1  1  1 -1\n",
      " -1  1  1 -1 -1  1  1  1  1 -1  1  1 -1 -1 -1  1 -1  1 -1  1  1  1 -1  1\n",
      "  1 -1 -1  1 -1 -1 -1 -1  1 -1 -1 -1  1 -1  1 -1  1  1 -1  1 -1 -1 -1 -1\n",
      "  1  1 -1 -1  1  1  1 -1  1  1  1  1  1 -1 -1  1  1 -1  1  1 -1 -1  1 -1\n",
      "  1  1  1  1 -1  1  1  1  1  1 -1  1 -1 -1 -1 -1 -1 -1 -1 -1 -1 -1 -1 -1\n",
      " -1 -1  1  1  1  1  1  1 -1  1 -1  1  1 -1  1  1 -1  1 -1 -1  1  1  1  1\n",
      "  1  1  1  1  1  1  1  1  1 -1  1  1 -1  1 -1  1  1  1  1  1  1  1  1  1\n",
      "  1  1  1  1  1 -1  1  1  1 -1  1 -1  1  1  1  1 -1 -1 -1  1  1  1  1 -1\n",
      "  1 -1  1 -1  1  1  1 -1  1  1  1  1  1  1  1 -1 -1 -1  1  1  1  1  1  1\n",
      "  1  1  1  1  1 -1 -1  1 -1 -1 -1  1 -1 -1  1  1  1  1  1 -1  1  1  1  1\n",
      "  1 -1  1  1  1 -1  1  1 -1 -1  1  1  1  1  1  1 -1  1  1  1  1  1  1  1\n",
      " -1  1  1  1  1  1 -1  1  1 -1  1  1  1  1  1  1  1  1  1  1  1  1 -1  1\n",
      " -1 -1  1 -1  1  1  1  1  1 -1  1  1 -1  1 -1  1  1 -1  1 -1  1  1  1  1\n",
      "  1  1  1  1 -1 -1  1  1  1  1  1  1 -1  1  1  1  1  1  1  1  1  1  1 -1\n",
      "  1  1  1  1  1  1  1 -1  1 -1  1  1 -1  1  1  1  1  1 -1 -1  1 -1  1 -1\n",
      "  1  1  1  1  1 -1  1  1 -1  1 -1  1 -1 -1  1  1  1 -1  1  1  1  1  1  1\n",
      "  1  1  1  1  1 -1  1 -1 -1  1  1  1  1  1  1  1  1  1  1  1  1  1  1  1\n",
      "  1  1  1  1  1  1  1  1  1  1 -1 -1 -1 -1 -1 -1  1]\n"
     ]
    }
   ],
   "source": [
    "Y = np.array([y if y == 1 else -1 for y in Y])\n",
    "print(Y)"
   ]
  },
  {
   "cell_type": "code",
   "execution_count": 21,
   "metadata": {},
   "outputs": [],
   "source": [
    "X_train, X_test, Y_train, Y_test = train_test_split(X, Y, test_size=0.4, random_state=2020)"
   ]
  },
  {
   "cell_type": "markdown",
   "metadata": {},
   "source": [
    "Параметры по умолчанию. "
   ]
  },
  {
   "cell_type": "code",
   "execution_count": 22,
   "metadata": {},
   "outputs": [
    {
     "name": "stdout",
     "output_type": "stream",
     "text": [
      "Точность классификации равняется: 88.596%\n",
      "Wall time: 37.9 s\n"
     ]
    }
   ],
   "source": [
    "%%time\n",
    "cls = SVM() \n",
    "cls.fit(X_train, Y_train)\n",
    "print(f'Точность классификации равняется: {accuracy_score(Y_test, cls.predict(X_test))*100:.3f}%')"
   ]
  },
  {
   "cell_type": "code",
   "execution_count": 23,
   "metadata": {},
   "outputs": [
    {
     "name": "stdout",
     "output_type": "stream",
     "text": [
      "Точность классификации равняется: 90.789%\n",
      "Wall time: 19.9 ms\n"
     ]
    },
    {
     "name": "stderr",
     "output_type": "stream",
     "text": [
      "C:\\Users\\Emil\\anaconda3\\lib\\site-packages\\sklearn\\svm\\_base.py:246: ConvergenceWarning: Solver terminated early (max_iter=10000).  Consider pre-processing your data with StandardScaler or MinMaxScaler.\n",
      "  warnings.warn('Solver terminated early (max_iter=%i).'\n"
     ]
    }
   ],
   "source": [
    "%%time\n",
    "cls = SVC(kernel='linear', C=1.0, degree=3, gamma=0.1, tol=10**-3, max_iter=10000) \n",
    "cls.fit(X_train, Y_train)\n",
    "print(f'Точность классификации равняется: {accuracy_score(Y_test, cls.predict(X_test))*100:.3f}%')"
   ]
  },
  {
   "cell_type": "markdown",
   "metadata": {},
   "source": [
    "Изменим параметры. Ядро пусть будет 'poly', C = 10.0, tol=10^(-100), max_iters = 1000."
   ]
  },
  {
   "cell_type": "code",
   "execution_count": 24,
   "metadata": {},
   "outputs": [
    {
     "name": "stdout",
     "output_type": "stream",
     "text": [
      "Точность классификации равняется: 89.474%\n",
      "Wall time: 59.4 s\n"
     ]
    }
   ],
   "source": [
    "%%time\n",
    "cls = SVM(kernel='poly', C=10.0, tol=10**-100, max_iters=10000) \n",
    "cls.fit(X_train, Y_train)\n",
    "print(f'Точность классификации равняется: {accuracy_score(Y_test, cls.predict(X_test))*100:.3f}%')"
   ]
  },
  {
   "cell_type": "code",
   "execution_count": 25,
   "metadata": {},
   "outputs": [
    {
     "name": "stdout",
     "output_type": "stream",
     "text": [
      "Точность классификации равняется: 92.105%\n",
      "Wall time: 4.99 ms\n"
     ]
    }
   ],
   "source": [
    "%%time\n",
    "cls = SVC(kernel='poly', C=10.0, max_iter=10000) \n",
    "cls.fit(X_train, Y_train)\n",
    "print(f'Точность классификации равняется: {accuracy_score(Y_test, cls.predict(X_test))*100:.3f}%')"
   ]
  },
  {
   "cell_type": "markdown",
   "metadata": {},
   "source": [
    " Изменим параметры. Ядро пусть будет 'rbf', gamma = 0.007, max_iters = 2000."
   ]
  },
  {
   "cell_type": "code",
   "execution_count": 26,
   "metadata": {},
   "outputs": [
    {
     "name": "stdout",
     "output_type": "stream",
     "text": [
      "Точность классификации равняется: 81.579%\n",
      "Wall time: 1min 49s\n"
     ]
    }
   ],
   "source": [
    "%%time\n",
    "cls = SVM(kernel='rbf', gamma=0.007, max_iters=2000) \n",
    "cls.fit(X_train, Y_train)\n",
    "print(f'Точность классификации равняется: {accuracy_score(Y_test, cls.predict(X_test))*100:.3f}%')"
   ]
  },
  {
   "cell_type": "code",
   "execution_count": 27,
   "metadata": {},
   "outputs": [
    {
     "name": "stdout",
     "output_type": "stream",
     "text": [
      "Точность классификации равняется: 60.088%\n",
      "Wall time: 18 ms\n"
     ]
    }
   ],
   "source": [
    "%%time\n",
    "cls = SVC(kernel='rbf', gamma=0.007) \n",
    "cls.fit(X_train, Y_train)\n",
    "print(f'Точность классификации равняется: {accuracy_score(Y_test, cls.predict(X_test))*100:.3f}%')"
   ]
  },
  {
   "cell_type": "markdown",
   "metadata": {},
   "source": [
    "# <center> SVM для мультиклассификации."
   ]
  },
  {
   "cell_type": "code",
   "execution_count": 28,
   "metadata": {},
   "outputs": [],
   "source": [
    "class SVM_multi(SVM):\n",
    "    \n",
    "    '''\n",
    "    Класс, представляющий мультиклассификацию методом опорных векторов.\n",
    "    Реализуется метод Один-Против-Всех (OVA - One-Vs-All).\n",
    "    SVM - Support Vector Machine.\n",
    "    '''\n",
    "    \n",
    "    def __init_(self, kernel='linear', C=1.0, degree=3, gamma=0.1, tol=10**-3, max_iters=10000):\n",
    "        \n",
    "        '''\n",
    "        Конструктор класса.\n",
    "        Параметры:\n",
    "        - kernel - ядро ('linear', 'poly' и 'rbf')\n",
    "        - С - параметр регуляризации\n",
    "        - degree - степень полиноминальной функции ядра \n",
    "        - gamma - используется в ядре 'rbf'\n",
    "        - tol - для реализации алгоритма SMO\n",
    "        - max_iters - максимальное количество итераций \n",
    "        '''\n",
    "        super.__init__(kernel, C, degree, gamma, tol, max_iters)\n",
    "        \n",
    "    # -----------------------------------------------------------------------------------------------------------------------\n",
    "        \n",
    "    def fit(self, x, y):\n",
    "        \n",
    "        '''\n",
    "        Подпрограмма обучения на тренировочных данныых.\n",
    "        Параметры:\n",
    "        - x - обучающая выборка\n",
    "        - y - массив меток\n",
    "        '''\n",
    "        \n",
    "        self._input(x, y)\n",
    "        \n",
    "        # отранжируем по частоте встречаемости класса \n",
    "        frequencies = dict()\n",
    "        labels = list(set(y))\n",
    "        for label in labels:\n",
    "            frequencies[label] = list(y).count(label)        \n",
    "        self.frequencies = list(sorted(frequencies.items(), reverse=True))\n",
    "\n",
    "        # массив SVM\n",
    "        self.machines = []\n",
    "        \n",
    "        # список корректных меток\n",
    "        self.true_labels = []\n",
    "        \n",
    "        # релизауем мультиклассификацию One-Vs-All\n",
    "        for freq in self.frequencies:\n",
    "            \n",
    "            self.true_labels.append(freq[0])\n",
    "            \n",
    "            X = x.copy()\n",
    "            Y = y.copy()\n",
    "            \n",
    "            Y = np.array([+1 if y == freq[0] else -1 for y in Y])\n",
    "\n",
    "            self.machines.append(\n",
    "                SVM(kernel=self.kernel_name, C=self.C, degree=self.degree, \n",
    "                    gamma=self.gamma, tol=self.tol, max_iters=self.max_iters)\n",
    "            )\n",
    "            self.machines[-1].fit(X, Y)\n",
    "                        \n",
    "        # массив вероятности встречаемости класса\n",
    "        self.p = np.array([list(y).count(label) / len(y) for label in self.true_labels])\n",
    "\n",
    "    # -----------------------------------------------------------------------------------------------------------------------\n",
    "    \n",
    "    def predictOne(self, x_j):\n",
    "        \n",
    "        keys = self.true_labels\n",
    "        votes = {}\n",
    "        for key in keys: votes[key] = 0\n",
    "        \n",
    "        # цикл по всем построенным SVM\n",
    "        for k, machine in enumerate(self.machines):\n",
    "            \n",
    "            probs = np.sign(machine._predict_row(x_j)) \n",
    "            \n",
    "            # за какой класс какая SVM \"голосует\"\n",
    "            votes[keys[k]] += 1 if probs == 1 else 0\n",
    "            \n",
    "        return max(votes, key=votes.get)\n",
    "\n",
    "    \n",
    "    def predict(self, X):\n",
    "        \n",
    "        '''\n",
    "        Подпрограмма, которая классифицирует обученной моделью выборку x.\n",
    "        '''\n",
    "        \n",
    "        # результирующий массив меток\n",
    "        labels = [] \n",
    "        \n",
    "        # цикл по всем объектам\n",
    "        for j in range(X.shape[0]):\n",
    "            \n",
    "            labels.append(self.predictOne(X[j, :]))\n",
    "\n",
    "        return np.array(labels)\n",
    "    \n",
    "    # -----------------------------------------------------------------------------------------------------------------------\n",
    "    \n",
    "    #def predict(self, X):\n",
    "    #    \n",
    "    #    '''\n",
    "    #    Подпрограмма, которая классифицирует обученной моделью выборку x.\n",
    "    #    '''\n",
    "    #    \n",
    "    #    # результирующий массив меток\n",
    "    #    labels = [] \n",
    "    #    \n",
    "    #    # цикл по всей выборке\n",
    "    #    for j in range(X.shape[0]):\n",
    "    #        \n",
    "    #        ind = -1\n",
    "    #        \n",
    "    #        # цикл по всем построенным SVM\n",
    "    #        for i, machine in enumerate(self.machines):\n",
    "    #            \n",
    "    #            # если 1, то нашли нужный класс\n",
    "    #            if np.sign(machine._predict_row(X[j, :])) == 1:\n",
    "    #                ind = i\n",
    "    #                break\n",
    "    #        \n",
    "    #        # ветка с -1 на случай, если объект не был отнесен ни к какому классу \n",
    "    #        if ind == -1:\n",
    "    #            labels.append(np.random.choice(self.true_labels, p=self.p)) \n",
    "    #        else:\n",
    "    #            labels.append(self.true_labels[ind])\n",
    "    #    \n",
    "    #    return labels"
   ]
  },
  {
   "cell_type": "markdown",
   "metadata": {},
   "source": [
    "## <center> Тест 1. <br> Ирисы Фишера."
   ]
  },
  {
   "cell_type": "code",
   "execution_count": 29,
   "metadata": {},
   "outputs": [],
   "source": [
    "import sklearn.datasets as datasets\n",
    "from sklearn.model_selection import train_test_split\n",
    "from sklearn.metrics import accuracy_score\n",
    "from sklearn.svm import SVC\n",
    "\n",
    "data = datasets.load_iris()\n",
    "\n",
    "X = data.data\n",
    "Y = data.target\n",
    "\n",
    "X_train, X_test, Y_train, Y_test = train_test_split(X, Y, test_size=0.4, random_state=2020)"
   ]
  },
  {
   "cell_type": "markdown",
   "metadata": {},
   "source": [
    "## <center> Параметры по умолчанию. "
   ]
  },
  {
   "cell_type": "code",
   "execution_count": 30,
   "metadata": {},
   "outputs": [
    {
     "name": "stdout",
     "output_type": "stream",
     "text": [
      "Точность классификации равняется: 56.667%\n",
      "Wall time: 29.6 s\n"
     ]
    }
   ],
   "source": [
    "%%time\n",
    "cls = SVM_multi() \n",
    "cls.fit(X_train, Y_train)\n",
    "print(f'Точность классификации равняется: {accuracy_score(Y_test, cls.predict(X_test))*100:.3f}%')"
   ]
  },
  {
   "cell_type": "code",
   "execution_count": 31,
   "metadata": {},
   "outputs": [
    {
     "name": "stdout",
     "output_type": "stream",
     "text": [
      "Точность классификации равняется: 93.333%\n",
      "Wall time: 2 ms\n"
     ]
    }
   ],
   "source": [
    "%%time\n",
    "cls = SVC(kernel='linear', C=1.0, degree=3, gamma=0.1, tol=10**-3, max_iter=10000, decision_function_shape='ovr') \n",
    "cls.fit(X_train, Y_train)\n",
    "print(f'Точность классификации равняется: {accuracy_score(Y_test, cls.predict(X_test))*100:.3f}%')"
   ]
  },
  {
   "cell_type": "markdown",
   "metadata": {},
   "source": [
    "## <center> Изменим параметры."
   ]
  },
  {
   "cell_type": "code",
   "execution_count": 32,
   "metadata": {},
   "outputs": [
    {
     "name": "stdout",
     "output_type": "stream",
     "text": [
      "Точность классификации равняется: 48.333%\n",
      "Wall time: 3.89 s\n"
     ]
    }
   ],
   "source": [
    "%%time\n",
    "cls = SVM_multi(kernel='poly', C=1.0, tol=10**-100, max_iters=1000) \n",
    "cls.fit(X_train, Y_train)\n",
    "print(f'Точность классификации равняется: {accuracy_score(Y_test, cls.predict(X_test))*100:.3f}%')"
   ]
  },
  {
   "cell_type": "code",
   "execution_count": 33,
   "metadata": {},
   "outputs": [
    {
     "name": "stdout",
     "output_type": "stream",
     "text": [
      "Точность классификации равняется: 91.667%\n",
      "Wall time: 1.97 ms\n"
     ]
    },
    {
     "name": "stderr",
     "output_type": "stream",
     "text": [
      "C:\\Users\\Emil\\anaconda3\\lib\\site-packages\\sklearn\\svm\\_base.py:246: ConvergenceWarning: Solver terminated early (max_iter=1000).  Consider pre-processing your data with StandardScaler or MinMaxScaler.\n",
      "  warnings.warn('Solver terminated early (max_iter=%i).'\n"
     ]
    }
   ],
   "source": [
    "%%time\n",
    "cls = SVC(kernel='poly', C=1.0, degree=3, gamma=0.1, tol=10**-100, max_iter=1000) \n",
    "cls.fit(X_train, Y_train)\n",
    "print(f'Точность классификации равняется: {accuracy_score(Y_test, cls.predict(X_test))*100:.3f}%')"
   ]
  },
  {
   "cell_type": "markdown",
   "metadata": {},
   "source": [
    "## <center> Изменим параметры."
   ]
  },
  {
   "cell_type": "code",
   "execution_count": 34,
   "metadata": {},
   "outputs": [
    {
     "name": "stdout",
     "output_type": "stream",
     "text": [
      "Точность классификации равняется: 80.000%\n",
      "Wall time: 9.87 s\n"
     ]
    }
   ],
   "source": [
    "%%time\n",
    "cls = SVM_multi(kernel='rbf', C=1.0, gamma = 0.1, tol=10**-7, max_iters=1000) \n",
    "cls.fit(X_train, Y_train)\n",
    "print(f'Точность классификации равняется: {accuracy_score(Y_test, cls.predict(X_test))*100:.3f}%')"
   ]
  },
  {
   "cell_type": "code",
   "execution_count": 35,
   "metadata": {},
   "outputs": [
    {
     "name": "stdout",
     "output_type": "stream",
     "text": [
      "Точность классификации равняется: 93.333%\n",
      "Wall time: 1.99 ms\n"
     ]
    }
   ],
   "source": [
    "%%time\n",
    "cls = SVC(kernel='rbf', C=1.0, gamma=0.1, tol=10**-7, max_iter=1000) \n",
    "cls.fit(X_train, Y_train)\n",
    "print(f'Точность классификации равняется: {accuracy_score(Y_test, cls.predict(X_test))*100:.3f}%')"
   ]
  },
  {
   "cell_type": "markdown",
   "metadata": {},
   "source": [
    "## <center> Тест 2. <center> Нефтяной датасет."
   ]
  },
  {
   "cell_type": "code",
   "execution_count": 36,
   "metadata": {},
   "outputs": [],
   "source": [
    "def CreateData(path):\n",
    "    \n",
    "    '''\n",
    "    Функция преобразует данные из Excel в набор данных X и Y.\n",
    "    Для X[i] берем данные из первых двух столбцов ('Liquid' и 'Gas'), для Y[i] берем данные из столбца с \n",
    "    заголовком 'Label'.\n",
    "    '''\n",
    "    \n",
    "    data = pd.read_excel(path)\n",
    "    data = data.to_dict()\n",
    "    keys = list(data.keys())\n",
    "\n",
    "    x = []\n",
    "    y = []\n",
    "    \n",
    "    for i in range(len(data[keys[0]])):\n",
    "        x.append([data[keys[0]][i], data[keys[1]][i]])\n",
    "        y.append(data['Label'][i])\n",
    "    \n",
    "    return np.array(x), np.array(y)"
   ]
  },
  {
   "cell_type": "code",
   "execution_count": 38,
   "metadata": {},
   "outputs": [
    {
     "data": {
      "image/png": "[encoded data removed]",
      "text/plain": [
       "<Figure size 432x288 with 1 Axes>"
      ]
     },
     "metadata": {
      "needs_background": "light"
     },
     "output_type": "display_data"
    }
   ],
   "source": [
    "import pandas as pd\n",
    "\n",
    "# блок подготовки данных\n",
    "path = 'D:\\\\MPEI\\\\5\\\\Программная инженерия 2\\\\Курсовой проект\\\\KursProject\\\\DataSets\\\\'\n",
    "X, Y = CreateData(path + 'dataset1.xlsx')\n",
    "X_train, X_test, Y_train, Y_test = train_test_split(X, Y, test_size=0.4, random_state=2020)\n",
    "\n",
    "data = pd.read_excel(path + 'dataset1.xlsx')\n",
    "colors = {21:'k', 13:'g', 31:'b', 32:'y'}\n",
    "fig, ax = plt.subplots()\n",
    "\n",
    "for i in range(len(data['Liquid'])):\n",
    "    ax.scatter(data['Liquid'][i], data['Gas'][i],color=colors[data['Label'][i]])\n",
    "\n",
    "ax.set_title('Oil dataset')\n",
    "ax.set_xlabel('Liquid')\n",
    "ax.set_ylabel('Gas')\n",
    "plt.show()"
   ]
  },
  {
   "cell_type": "markdown",
   "metadata": {},
   "source": [
    "## <center> Параметры по умолчанию."
   ]
  },
  {
   "cell_type": "code",
   "execution_count": 39,
   "metadata": {},
   "outputs": [
    {
     "name": "stdout",
     "output_type": "stream",
     "text": [
      "Точность классификации равняется: 10.088%\n",
      "Wall time: 13.7 s\n"
     ]
    }
   ],
   "source": [
    "%%time\n",
    "cls = SVM_multi() \n",
    "cls.fit(X_train, Y_train)\n",
    "print(f'Точность классификации равняется: {accuracy_score(Y_test, cls.predict(X_test))*100:.3f}%')"
   ]
  },
  {
   "cell_type": "code",
   "execution_count": 40,
   "metadata": {},
   "outputs": [
    {
     "name": "stdout",
     "output_type": "stream",
     "text": [
      "Точность классификации равняется: 99.561%\n",
      "Wall time: 2.91 ms\n"
     ]
    }
   ],
   "source": [
    "%%time\n",
    "cls = SVC(kernel='linear', C=1.0, degree=3, gamma=0.1, tol=10**-3, max_iter=10000, decision_function_shape='ovr') \n",
    "cls.fit(X_train, Y_train)\n",
    "print(f'Точность классификации равняется: {accuracy_score(Y_test, cls.predict(X_test))*100:.3f}%')"
   ]
  },
  {
   "cell_type": "markdown",
   "metadata": {},
   "source": [
    "## <center> Изменим параметры."
   ]
  },
  {
   "cell_type": "code",
   "execution_count": 41,
   "metadata": {},
   "outputs": [
    {
     "name": "stdout",
     "output_type": "stream",
     "text": [
      "Точность классификации равняется: 60.088%\n",
      "Wall time: 1min 24s\n"
     ]
    }
   ],
   "source": [
    "%%time\n",
    "cls = SVM_multi(kernel='poly', C=10.0, degree=5, tol=10**-99, max_iters=1777) \n",
    "cls.fit(X_train, Y_train)\n",
    "print(f'Точность классификации равняется: {accuracy_score(Y_test, cls.predict(X_test))*100:.3f}%')"
   ]
  },
  {
   "cell_type": "code",
   "execution_count": 42,
   "metadata": {},
   "outputs": [
    {
     "name": "stdout",
     "output_type": "stream",
     "text": [
      "Точность классификации равняется: 99.123%\n",
      "Wall time: 2.62 ms\n"
     ]
    },
    {
     "name": "stderr",
     "output_type": "stream",
     "text": [
      "C:\\Users\\Emil\\anaconda3\\lib\\site-packages\\sklearn\\svm\\_base.py:246: ConvergenceWarning: Solver terminated early (max_iter=1777).  Consider pre-processing your data with StandardScaler or MinMaxScaler.\n",
      "  warnings.warn('Solver terminated early (max_iter=%i).'\n"
     ]
    }
   ],
   "source": [
    "%%time\n",
    "cls = SVC(kernel='poly', C=10.0, degree=5, gamma=0.1, tol=10**-99, max_iter=1777, decision_function_shape='ovr') \n",
    "cls.fit(X_train, Y_train)\n",
    "print(f'Точность классификации равняется: {accuracy_score(Y_test, cls.predict(X_test))*100:.3f}%')"
   ]
  },
  {
   "cell_type": "markdown",
   "metadata": {},
   "source": [
    "## <center> Изменим параметры. "
   ]
  },
  {
   "cell_type": "code",
   "execution_count": 43,
   "metadata": {},
   "outputs": [
    {
     "name": "stdout",
     "output_type": "stream",
     "text": [
      "Точность классификации равняется: 66.667%\n",
      "Wall time: 1min 54s\n"
     ]
    }
   ],
   "source": [
    "%%time\n",
    "cls = SVM_multi(kernel='rbf', C=0.1, gamma=0.006, tol=10**-9, max_iters=1000) \n",
    "cls.fit(X_train, Y_train)\n",
    "print(f'Точность классификации равняется: {accuracy_score(Y_test, cls.predict(X_test))*100:.3f}%')"
   ]
  },
  {
   "cell_type": "code",
   "execution_count": 44,
   "metadata": {},
   "outputs": [
    {
     "name": "stdout",
     "output_type": "stream",
     "text": [
      "Точность классификации равняется: 76.754%\n",
      "Wall time: 14 ms\n"
     ]
    },
    {
     "name": "stderr",
     "output_type": "stream",
     "text": [
      "C:\\Users\\Emil\\anaconda3\\lib\\site-packages\\sklearn\\svm\\_base.py:246: ConvergenceWarning: Solver terminated early (max_iter=1000).  Consider pre-processing your data with StandardScaler or MinMaxScaler.\n",
      "  warnings.warn('Solver terminated early (max_iter=%i).'\n"
     ]
    }
   ],
   "source": [
    "%%time\n",
    "cls = SVC(kernel='rbf', C=0.1, gamma=0.006, tol=10**-9, max_iter=1000, decision_function_shape='ovr') \n",
    "cls.fit(X_train, Y_train)\n",
    "print(f'Точность классификации равняется: {accuracy_score(Y_test, cls.predict(X_test))*100:.3f}%')"
   ]
  },
  {
   "cell_type": "markdown",
   "metadata": {},
   "source": [
    "# <center> Ну и еще раз изменим."
   ]
  },
  {
   "cell_type": "code",
   "execution_count": 45,
   "metadata": {},
   "outputs": [
    {
     "name": "stdout",
     "output_type": "stream",
     "text": [
      "Точность классификации равняется: 89.474%\n",
      "Wall time: 6min 3s\n"
     ]
    }
   ],
   "source": [
    "%%time\n",
    "cls = SVM_multi(kernel='rbf', C=10.1, gamma=0.006, tol=10**-9, max_iters=3000) \n",
    "cls.fit(X_train, Y_train)\n",
    "print(f'Точность классификации равняется: {accuracy_score(Y_test, cls.predict(X_test))*100:.3f}%')"
   ]
  },
  {
   "cell_type": "code",
   "execution_count": 47,
   "metadata": {},
   "outputs": [
    {
     "name": "stdout",
     "output_type": "stream",
     "text": [
      "Точность классификации равняется: 94.737%\n",
      "Wall time: 16 ms\n"
     ]
    },
    {
     "name": "stderr",
     "output_type": "stream",
     "text": [
      "C:\\Users\\Emil\\anaconda3\\lib\\site-packages\\sklearn\\svm\\_base.py:246: ConvergenceWarning: Solver terminated early (max_iter=3000).  Consider pre-processing your data with StandardScaler or MinMaxScaler.\n",
      "  warnings.warn('Solver terminated early (max_iter=%i).'\n"
     ]
    }
   ],
   "source": [
    "%%time\n",
    "cls = SVC(kernel='rbf', C=10.1, gamma=0.006, tol=10**-9, max_iter=3000, decision_function_shape='ovr') \n",
    "cls.fit(X_train, Y_train)\n",
    "print(f'Точность классификации равняется: {accuracy_score(Y_test, cls.predict(X_test))*100:.3f}%')"
   ]
  }
 ],
 "metadata": {
  "kernelspec": {
   "display_name": "Python 3",
   "language": "python",
   "name": "python3"
  },
  "language_info": {
   "codemirror_mode": {
    "name": "ipython",
    "version": 3
   },
   "file_extension": ".py",
   "mimetype": "text/x-python",
   "name": "python",
   "nbconvert_exporter": "python",
   "pygments_lexer": "ipython3",
   "version": "3.8.3"
  }
 },
 "nbformat": 4,
 "nbformat_minor": 4
}
